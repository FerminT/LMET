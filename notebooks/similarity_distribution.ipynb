{
 "cells": [
  {
   "cell_type": "code",
   "execution_count": 1,
   "id": "initial_id",
   "metadata": {
    "collapsed": true,
    "ExecuteTime": {
     "end_time": "2023-11-22T18:52:53.905503967Z",
     "start_time": "2023-11-22T18:52:44.461508304Z"
    }
   },
   "outputs": [],
   "source": [
    "from gensim.models import Word2Vec, KeyedVectors\n",
    "from tqdm.notebook import tqdm\n",
    "gt_embeddings = '../evaluation/SWOWRP_embeddings.vec'\n",
    "sg_model = '../models/all_wikis_30%_sg/baseline/baseline.model'\n",
    "cbow_model = '../models/all_wikis_30%/baseline/baseline.model'\n",
    "gt_embeddings = KeyedVectors.load_word2vec_format(gt_embeddings, binary=False)\n",
    "sg_model = Word2Vec.load(sg_model)\n",
    "cbow_model = Word2Vec.load(cbow_model)"
   ]
  },
  {
   "cell_type": "markdown",
   "source": [
    "### Sample 10,000 random words"
   ],
   "metadata": {
    "collapsed": false
   },
   "id": "680e33ba3682ac88"
  },
  {
   "cell_type": "code",
   "execution_count": 3,
   "outputs": [],
   "source": [
    "import random\n",
    "\n",
    "random.seed(42)\n",
    "gt_words = random.sample(gt_embeddings.index_to_key, 650) # 5% of the words in the GT embeddings\n",
    "sg_words = random.sample(sg_model.wv.index_to_key, 1000) # 5% of the words in the SG embeddings\n",
    "cbow_words = random.sample(cbow_model.wv.index_to_key, 1000) # 5% of the words in the CBOW embeddings\n",
    "gt_other_words = [word for word in random.sample(gt_embeddings.index_to_key, 6500) if word not in gt_words]\n",
    "sg_other_words = [word for word in random.sample(sg_model.wv.index_to_key, 10000) if word not in sg_words]\n",
    "cbow_other_words = [word for word in random.sample(cbow_model.wv.index_to_key, 10000) if word not in cbow_words]"
   ],
   "metadata": {
    "collapsed": false,
    "ExecuteTime": {
     "end_time": "2023-11-22T18:53:25.893429520Z",
     "start_time": "2023-11-22T18:53:25.727162534Z"
    }
   },
   "id": "59b5b53efe63141"
  },
  {
   "cell_type": "markdown",
   "source": [
    "### Compute similarity between all pairs of words"
   ],
   "metadata": {
    "collapsed": false
   },
   "id": "699cb989d7d335c1"
  },
  {
   "cell_type": "code",
   "execution_count": 4,
   "outputs": [
    {
     "data": {
      "text/plain": "  0%|          | 0/650 [00:00<?, ?it/s]",
      "application/vnd.jupyter.widget-view+json": {
       "version_major": 2,
       "version_minor": 0,
       "model_id": "e727b6c3d2da4084a756beacb361f866"
      },
      "application/json": {
       "n": 0,
       "total": 650,
       "elapsed": 0.0043010711669921875,
       "ncols": null,
       "nrows": null,
       "prefix": "",
       "ascii": false,
       "unit": "it",
       "unit_scale": false,
       "rate": null,
       "bar_format": null,
       "postfix": null,
       "unit_divisor": 1000,
       "initial": 0,
       "colour": null
      }
     },
     "metadata": {},
     "output_type": "display_data"
    },
    {
     "data": {
      "text/plain": "  0%|          | 0/1000 [00:00<?, ?it/s]",
      "application/vnd.jupyter.widget-view+json": {
       "version_major": 2,
       "version_minor": 0,
       "model_id": "d1099aac22b342e6847240fc07ee8cbe"
      },
      "application/json": {
       "n": 0,
       "total": 1000,
       "elapsed": 0.0032951831817626953,
       "ncols": null,
       "nrows": null,
       "prefix": "",
       "ascii": false,
       "unit": "it",
       "unit_scale": false,
       "rate": null,
       "bar_format": null,
       "postfix": null,
       "unit_divisor": 1000,
       "initial": 0,
       "colour": null
      }
     },
     "metadata": {},
     "output_type": "display_data"
    },
    {
     "data": {
      "text/plain": "  0%|          | 0/1000 [00:00<?, ?it/s]",
      "application/vnd.jupyter.widget-view+json": {
       "version_major": 2,
       "version_minor": 0,
       "model_id": "3b74b406caae4770bff750219172ebba"
      },
      "application/json": {
       "n": 0,
       "total": 1000,
       "elapsed": 0.0030040740966796875,
       "ncols": null,
       "nrows": null,
       "prefix": "",
       "ascii": false,
       "unit": "it",
       "unit_scale": false,
       "rate": null,
       "bar_format": null,
       "postfix": null,
       "unit_divisor": 1000,
       "initial": 0,
       "colour": null
      }
     },
     "metadata": {},
     "output_type": "display_data"
    }
   ],
   "source": [
    "def similarities(words, other_words, words_vectors):\n",
    "    similarities = []\n",
    "    for word in tqdm(words):\n",
    "        for other_word in other_words:\n",
    "            similarities.append(words_vectors.similarity(word, other_word))\n",
    "    return similarities\n",
    "gt_similarities = similarities(gt_words, gt_other_words, gt_embeddings)\n",
    "sg_similarities = similarities(sg_words, sg_other_words, sg_model.wv)\n",
    "cbow_similarities = similarities(cbow_words, cbow_other_words, cbow_model.wv)"
   ],
   "metadata": {
    "collapsed": false,
    "ExecuteTime": {
     "end_time": "2023-11-22T18:56:11.633316258Z",
     "start_time": "2023-11-22T18:53:30.025208698Z"
    }
   },
   "id": "50dcd7adbfc1a664"
  },
  {
   "cell_type": "code",
   "execution_count": 7,
   "outputs": [
    {
     "data": {
      "text/plain": "<Figure size 640x480 with 1 Axes>",
      "image/png": "[encoded data removed]"
     },
     "metadata": {},
     "output_type": "display_data"
    }
   ],
   "source": [
    "import matplotlib.pyplot as plt\n",
    "import numpy as np\n",
    "\n",
    "bins = np.arange(-0.4, 0.8, 0.01)\n",
    "plt.hist(gt_similarities, bins=bins, alpha=0.6, density=True, label='SWOWRP')\n",
    "plt.hist(sg_similarities, bins=bins, alpha=0.6, density=True, label='SG')\n",
    "plt.hist(cbow_similarities, bins=bins, alpha=0.6, density=True, label='CBOW')\n",
    "plt.legend(loc='upper right')\n",
    "plt.xlabel('Similarity')\n",
    "plt.ylabel('Frequency')\n",
    "plt.title('Similarity distribution on corpus all_wikis_30%')\n",
    "plt.savefig('../results/similarity_distribution.png')\n",
    "plt.show()"
   ],
   "metadata": {
    "collapsed": false,
    "ExecuteTime": {
     "end_time": "2023-11-22T19:04:59.666566965Z",
     "start_time": "2023-11-22T19:04:25.210870649Z"
    }
   },
   "id": "1b773f132983d1d6"
  }
 ],
 "metadata": {
  "kernelspec": {
   "display_name": "Python 3",
   "language": "python",
   "name": "python3"
  },
  "language_info": {
   "codemirror_mode": {
    "name": "ipython",
    "version": 2
   },
   "file_extension": ".py",
   "mimetype": "text/x-python",
   "name": "python",
   "nbconvert_exporter": "python",
   "pygments_lexer": "ipython2",
   "version": "2.7.6"
  }
 },
 "nbformat": 4,
 "nbformat_minor": 5
}

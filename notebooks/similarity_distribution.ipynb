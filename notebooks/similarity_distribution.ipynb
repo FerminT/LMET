{
 "cells": [
  {
   "cell_type": "code",
   "execution_count": 31,
   "id": "initial_id",
   "metadata": {
    "ExecuteTime": {
     "end_time": "2023-11-27T14:15:16.132946633Z",
     "start_time": "2023-11-27T14:14:25.677723616Z"
    },
    "collapsed": true
   },
   "outputs": [],
   "source": [
    "from gensim.models import KeyedVectors\n",
    "from tqdm.notebook import tqdm\n",
    "gt_embeddings = '../evaluation/SWOWRP_embeddings.vec'\n",
    "sg_model = '../models/all_wikis_30%_gensim/baseline/baseline.vec'\n",
    "cbow_model = '../models/all_wikis_30%_cb/baseline/baseline.vec'\n",
    "sg_torch_model = '../models/all_wikis_30%/baseline/baseline.vec'\n",
    "gt_embeddings = KeyedVectors.load_word2vec_format(gt_embeddings, binary=False)\n",
    "sg_model = KeyedVectors.load_word2vec_format(sg_model, binary=False)\n",
    "sg_torch_model = KeyedVectors.load_word2vec_format(sg_torch_model, binary=False)\n",
    "cbow_model = KeyedVectors.load_word2vec_format(cbow_model, binary=False)\n",
    "models = {'GT': {'embeddings': gt_embeddings}, \n",
    "          'SG': {'embeddings': sg_model},\n",
    "          'SG_torch': {'embeddings': sg_torch_model}, \n",
    "          'CBOW': {'embeddings': cbow_model}}"
   ]
  },
  {
   "cell_type": "markdown",
   "id": "680e33ba3682ac88",
   "metadata": {
    "collapsed": false
   },
   "source": [
    "### Sample random words"
   ]
  },
  {
   "cell_type": "code",
   "execution_count": 32,
   "id": "59b5b53efe63141",
   "metadata": {
    "ExecuteTime": {
     "end_time": "2023-11-27T14:15:41.623383983Z",
     "start_time": "2023-11-27T14:15:41.392552489Z"
    },
    "collapsed": false
   },
   "outputs": [],
   "source": [
    "import random\n",
    "random.seed(42)\n",
    "for model in models:\n",
    "    n_words = 650 if model == 'GT' else 1000\n",
    "    models[model]['words'] = random.sample(models[model]['embeddings'].index_to_key, n_words)\n",
    "    models[model]['other_words'] = [word for word in random.sample(models[model]['embeddings'].index_to_key, n_words * 10) if word not in models[model]['words']]"
   ]
  },
  {
   "cell_type": "markdown",
   "id": "699cb989d7d335c1",
   "metadata": {
    "collapsed": false
   },
   "source": [
    "### Compute similarity between all pairs of words"
   ]
  },
  {
   "cell_type": "code",
   "execution_count": 36,
   "id": "50dcd7adbfc1a664",
   "metadata": {
    "ExecuteTime": {
     "end_time": "2023-11-27T14:19:53.778678894Z",
     "start_time": "2023-11-27T14:15:57.807368821Z"
    },
    "collapsed": false
   },
   "outputs": [],
   "source": [
    "def similarities(words, other_words, words_vectors):\n",
    "    similarities = []\n",
    "    for word in tqdm(words):\n",
    "        for other_word in other_words:\n",
    "            similarities.append(words_vectors.similarity(word, other_word))\n",
    "    return similarities\n",
    "for model in models:\n",
    "    print(model)\n",
    "    models[model]['similarities'] = similarities(models[model]['words'], \n",
    "                                                 models[model]['other_words'], \n",
    "                                                 models[model]['embeddings'])"
   ]
  },
  {
   "cell_type": "code",
   "execution_count": 37,
   "id": "1b773f132983d1d6",
   "metadata": {
    "ExecuteTime": {
     "end_time": "2023-11-27T16:41:20.494609875Z",
     "start_time": "2023-11-27T16:40:59.002772356Z"
    },
    "collapsed": false
   },
   "outputs": [],
   "source": [
    "import matplotlib.pyplot as plt\n",
    "import numpy as np\n",
    "\n",
    "bins = np.arange(-0.4, 0.8, 0.01)\n",
    "for model in models:\n",
    "    plt.hist(models[model]['similarities'], bins=bins, density=True, label=model, histtype='step')\n",
    "plt.legend(loc='upper right')\n",
    "plt.xlabel('Similarity')\n",
    "plt.ylabel('Frequency')\n",
    "plt.axvline(x=-0.08, linestyle='--', color='tab:blue')\n",
    "plt.axvline(x=0.01, linestyle='--', color='tab:green')\n",
    "plt.title('Similarity distribution on corpus all_wikis_30%')\n",
    "plt.savefig('../results/similarity_distribution.png')\n",
    "plt.show()"
   ]
  }
 ],
 "metadata": {
  "kernelspec": {
   "display_name": "Python 3",
   "language": "python",
   "name": "python3"
  },
  "language_info": {
   "codemirror_mode": {
    "name": "ipython",
    "version": 3
   },
   "file_extension": ".py",
   "mimetype": "text/x-python",
   "name": "python",
   "nbconvert_exporter": "python",
   "pygments_lexer": "ipython3",
   "version": "3.10.12"
  }
 },
 "nbformat": 4,
 "nbformat_minor": 5
}

{
 "cells": [
  {
   "cell_type": "markdown",
   "metadata": {},
   "source": [
    "### Set up"
   ]
  },
  {
   "cell_type": "code",
   "execution_count": 3,
   "metadata": {
    "ExecuteTime": {
     "end_time": "2024-02-19T20:09:25.789386188Z",
     "start_time": "2024-02-19T20:09:25.523006021Z"
    }
   },
   "outputs": [
    {
     "data": {
      "text/plain": "Resolving data files:   0%|          | 0/20 [00:00<?, ?it/s]",
      "application/vnd.jupyter.widget-view+json": {
       "version_major": 2,
       "version_minor": 0,
       "model_id": "d330f2d358bd4c098278ac737cd30b24"
      }
     },
     "metadata": {},
     "output_type": "display_data"
    },
    {
     "data": {
      "text/plain": "Filter:   0%|          | 0/269 [00:00<?, ? examples/s]",
      "application/vnd.jupyter.widget-view+json": {
       "version_major": 2,
       "version_minor": 0,
       "model_id": "b43014fd1774447d8a0fc31f42b2b434"
      }
     },
     "metadata": {},
     "output_type": "display_data"
    }
   ],
   "source": [
    "import pandas as pd\n",
    "from pathlib import Path\n",
    "\n",
    "root = Path('.').absolute().parent\n",
    "data_path = root / 'evaluation'\n",
    "texts_path = root / 'texts'\n",
    "\n",
    "swow = pd.read_csv(data_path / 'SWOWRP_words_associations.csv', delimiter='\\t')\n",
    "swow.drop(columns=['N'], inplace=True)\n",
    "swow.rename(columns={'response': 'answer', 'R1': 'n', 'R1.Strength': 'freq'}, inplace=True)"
   ]
  },
  {
   "cell_type": "markdown",
   "metadata": {},
   "source": [
    "### Preprocessing"
   ]
  },
  {
   "cell_type": "code",
   "execution_count": 4,
   "metadata": {
    "ExecuteTime": {
     "end_time": "2024-02-19T20:09:32.554903804Z",
     "start_time": "2024-02-19T20:09:31.532360077Z"
    }
   },
   "outputs": [],
   "source": [
    "# Delete cues and answers with more than one word\n",
    "swow = swow.drop(swow[swow['cue'].str.contains(' ')].index)\n",
    "swow = swow.drop(swow[swow['answer'].str.contains(' ')].index)\n",
    "# Delete cues and answers that are not composed of latin letters or have accents\n",
    "swow = swow.drop(swow[swow['cue'].str.contains('[^ \\nA-Za-zá-úñ/]+')].index)\n",
    "swow = swow.drop(swow[swow['answer'].str.contains('[^ \\nA-Za-zá-úñ/]+')].index)\n",
    "# Delete cues with length less than 3\n",
    "swow = swow.drop(swow[swow['cue'].str.len() < 3].index)\n",
    "swow = swow.drop(swow[swow['answer'].str.len() < 3].index)\n",
    "# Delete cues with length more than 20\n",
    "swow = swow.drop(swow[swow['cue'].str.len() > 20].index)\n",
    "swow = swow.drop(swow[swow['answer'].str.len() > 20].index)\n",
    "# To lower\n",
    "swow['cue'] = swow['cue'].str.lower()\n",
    "swow['answer'] = swow['answer'].str.lower()"
   ]
  },
  {
   "cell_type": "markdown",
   "metadata": {},
   "source": [
    "### Save to file"
   ]
  },
  {
   "cell_type": "code",
   "execution_count": 5,
   "metadata": {
    "ExecuteTime": {
     "end_time": "2024-02-19T20:09:36.553719084Z",
     "start_time": "2024-02-19T20:09:35.901730220Z"
    }
   },
   "outputs": [],
   "source": [
    "swow.to_csv(data_path / 'SWOWRP_words_associations.csv', index=False)"
   ]
  }
 ],
 "metadata": {
  "kernelspec": {
   "display_name": "Python 3",
   "language": "python",
   "name": "python3"
  },
  "language_info": {
   "codemirror_mode": {
    "name": "ipython",
    "version": 3
   },
   "file_extension": ".py",
   "mimetype": "text/x-python",
   "name": "python",
   "nbconvert_exporter": "python",
   "pygments_lexer": "ipython3",
   "version": "3.10.12"
  }
 },
 "nbformat": 4,
 "nbformat_minor": 2
}

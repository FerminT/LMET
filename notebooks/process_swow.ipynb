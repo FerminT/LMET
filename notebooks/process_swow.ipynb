{
 "cells": [
  {
   "cell_type": "markdown",
   "metadata": {},
   "source": [
    "### Set up"
   ]
  },
  {
   "cell_type": "code",
   "execution_count": 57,
   "metadata": {
    "ExecuteTime": {
     "end_time": "2024-02-19T20:09:25.789386188Z",
     "start_time": "2024-02-19T20:09:25.523006021Z"
    }
   },
   "outputs": [],
   "source": [
    "import pandas as pd\n",
    "import numpy as np\n",
    "from pathlib import Path\n",
    "\n",
    "root = Path('.').absolute().parent\n",
    "data_path = root / 'evaluation'\n",
    "\n",
    "words_freq = pd.read_csv(data_path / 'words_freq.csv')\n",
    "swow = pd.read_csv(data_path / 'SWOWRP_words_associations.csv', delimiter='\\t')\n",
    "swow.drop(columns=['N'], inplace=True)\n",
    "swow.rename(columns={'response': 'answer', 'R1': 'n', 'R1.Strength': 'freq'}, inplace=True)\n",
    "swow.drop_duplicates(subset=['cue', 'answer'], inplace=True)"
   ]
  },
  {
   "cell_type": "markdown",
   "metadata": {},
   "source": [
    "### Preprocessing"
   ]
  },
  {
   "cell_type": "code",
   "execution_count": 58,
   "metadata": {
    "ExecuteTime": {
     "end_time": "2024-02-19T20:09:32.554903804Z",
     "start_time": "2024-02-19T20:09:31.532360077Z"
    }
   },
   "outputs": [],
   "source": [
    "non_latin_pattern = '[^ \\nA-Za-zá-úñ/]+'\n",
    "invalid_inbetween_pattern = '[A-Za-zá-úñ]+.*?[^\\sA-Za-zá-úñ][A-Za-zá-úñ]+'\n",
    "for keyword in ['cue', 'answer']:\n",
    "    # Delete cues and answers with more than one word\n",
    "    swow = swow.drop(swow[swow[keyword].str.contains(' ')].index)    \n",
    "    # Delete cues and answers that are not composed of latin letters, or contain invalid characters in between\n",
    "    swow = swow.drop(swow[swow[keyword].str.contains(non_latin_pattern)].index)\n",
    "    swow = swow.drop(swow[swow[keyword].str.contains(invalid_inbetween_pattern)].index)\n",
    "    # Delete cues with length less than 3\n",
    "    swow = swow.drop(swow[swow[keyword].str.len() < 3].index)\n",
    "    swow = swow.drop(swow[swow[keyword].str.len() > 20].index)\n",
    "    swow[keyword] = swow[keyword].str.lower()\n",
    "# Filter out cues and answers that are not in EsPal (words_freq)\n",
    "swow = swow[swow['cue'].isin(words_freq['word'])]\n",
    "swow = swow[swow['answer'].isin(words_freq['word'])]"
   ]
  },
  {
   "cell_type": "markdown",
   "metadata": {},
   "source": [
    "#### Get same cue-answer word pairs"
   ]
  },
  {
   "cell_type": "code",
   "execution_count": 60,
   "metadata": {},
   "outputs": [],
   "source": [
    "original_cues = swow['cue'].unique().copy()\n",
    "swow_renamed = swow.rename(columns={'answer': 'cue', 'cue': 'answer'})\n",
    "swow_merged = pd.merge(swow, swow_renamed, on='cue').drop(columns=['freq_x', 'freq_y'])\n",
    "same_word_pairs = swow_merged[swow_merged['answer_x'] == swow_merged['answer_y']].copy()\n",
    "# Average the number of responses for the same word pairs\n",
    "same_word_pairs['n'] = (same_word_pairs['n_x'] + same_word_pairs['n_y']) // 2\n",
    "same_word_pairs.drop(columns=['n_x', 'n_y', 'answer_y'], inplace=True)\n",
    "same_word_pairs.rename(columns={'answer_x': 'answer'}, inplace=True)"
   ]
  },
  {
   "cell_type": "markdown",
   "metadata": {},
   "source": [
    "#### Compute frequency of answer with new n"
   ]
  },
  {
   "cell_type": "code",
   "execution_count": 61,
   "metadata": {},
   "outputs": [],
   "source": [
    "swow_merged = pd.merge(swow, same_word_pairs, on=['cue', 'answer'], how='left')\n",
    "swow_merged['n'] = swow_merged['n_y'].fillna(swow_merged['n_x'])\n",
    "swow_merged.drop(columns=['n_x', 'n_y', 'freq'], inplace=True)\n",
    "swow_merged['n'] = swow_merged['n'].astype(int)\n",
    "swow_merged['freq'] = swow_merged.groupby('cue')['n'].transform(lambda x: x / x.sum())"
   ]
  },
  {
   "cell_type": "markdown",
   "metadata": {},
   "source": [
    "#### Get rid of repeated word pairs and retain only original cues"
   ]
  },
  {
   "cell_type": "code",
   "execution_count": 62,
   "metadata": {},
   "outputs": [],
   "source": [
    "swow_merged[['cue', 'answer']] = pd.DataFrame(np.sort(swow_merged[['cue', 'answer']], axis=1), index=swow_merged.index)\n",
    "swow_merged.drop_duplicates(['cue', 'answer'], inplace=True)\n",
    "swow_merged = swow_merged[swow_merged['cue'].isin(original_cues)]"
   ]
  },
  {
   "cell_type": "markdown",
   "metadata": {},
   "source": [
    "### Save to file"
   ]
  },
  {
   "cell_type": "code",
   "execution_count": 64,
   "metadata": {
    "ExecuteTime": {
     "end_time": "2024-02-19T20:09:36.553719084Z",
     "start_time": "2024-02-19T20:09:35.901730220Z"
    }
   },
   "outputs": [],
   "source": [
    "swow_merged.to_csv(data_path / 'SWOWRP_words_associations.csv', index=False)"
   ]
  }
 ],
 "metadata": {
  "kernelspec": {
   "display_name": "Python 3",
   "language": "python",
   "name": "python3"
  },
  "language_info": {
   "codemirror_mode": {
    "name": "ipython",
    "version": 3
   },
   "file_extension": ".py",
   "mimetype": "text/x-python",
   "name": "python",
   "nbconvert_exporter": "python",
   "pygments_lexer": "ipython3",
   "version": "3.10.12"
  }
 },
 "nbformat": 4,
 "nbformat_minor": 2
}

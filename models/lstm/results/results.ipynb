{
 "cells": [
  {
   "cell_type": "code",
   "execution_count": 12,
   "metadata": {},
   "source": [
    "import pandas as pd\n",
    "import seaborn as sns\n",
    "import numpy as np\n",
    "import matplotlib.pyplot as plt"
   ],
   "outputs": []
  },
  {
   "cell_type": "code",
   "execution_count": 19,
   "metadata": {},
   "source": [
    "pytorch_results = pd.read_csv(\"./../data/pytorch_results.csv\")\n",
    "pytorch_without_punctuaction = pd.read_csv(\"./../data/pytorch_without_punctuation_results.csv\")\n",
    "pytorch_without_punctuation_only_training = pd.read_csv(\"./../data/pytorch_without_punctuation_only_training_results.csv\")\n",
    "\n",
    "pytorch_results['Model'] = 'With Punctuation'\n",
    "pytorch_without_punctuaction['Model'] = 'Without Punctuation'\n",
    "pytorch_without_punctuation_only_training['Model'] = 'Without Punctuation, Training Only'\n",
    "\n",
    "combined = pd.concat([pytorch_results, pytorch_without_punctuaction, pytorch_without_punctuation_only_training])\n",
    "\n",
    "plt.figure(figsize=(10, 6))\n",
    "sns.lineplot(data=combined, x='epoch', y='valid_ppl', hue='Model')\n",
    "plt.title('Model Performance Comparison')\n",
    "plt.ylabel('Perplexity')\n",
    "plt.xlabel('Epoch')\n",
    "plt.ylim(50, 100)\n",
    "plt.show()"
   ],
   "outputs": []
  },
  {
   "cell_type": "code",
   "execution_count": null,
   "metadata": {},
   "source": [],
   "outputs": []
  }
 ],
 "metadata": {
  "kernelspec": {
   "display_name": "cpu",
   "language": "python",
   "name": "python3"
  },
  "language_info": {
   "codemirror_mode": {
    "name": "ipython",
    "version": 3
   },
   "file_extension": ".py",
   "mimetype": "text/x-python",
   "name": "python",
   "nbconvert_exporter": "python",
   "pygments_lexer": "ipython3",
   "version": "3.12.2"
  }
 },
 "nbformat": 4,
 "nbformat_minor": 2
}

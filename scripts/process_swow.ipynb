{
 "cells": [
  {
   "cell_type": "markdown",
   "metadata": {},
   "source": [
    "### Set up"
   ]
  },
  {
   "cell_type": "code",
   "execution_count": 23,
   "metadata": {
    "ExecuteTime": {
     "end_time": "2023-11-16T15:25:12.827550791Z",
     "start_time": "2023-11-16T15:25:12.662863561Z"
    }
   },
   "outputs": [],
   "source": [
    "import pandas as pd\n",
    "from corpora import Corpus\n",
    "from pathlib import Path\n",
    "\n",
    "def get_words(corpus):\n",
    "    words_in_texts = set()\n",
    "    for sentence in corpus.get_texts():\n",
    "        for word in sentence['text']:\n",
    "            words_in_texts.add(word)\n",
    "    return words_in_texts\n",
    "\n",
    "DEACCENT_MAP = {'À': 'A', 'Á': 'A', 'Â': 'A', 'Ã': 'A', 'Ä': 'A',\n",
    "                'à': 'a', 'á': 'a', 'â': 'a', 'ã': 'a', 'ä': 'a',\n",
    "                'È': 'E', 'É': 'E', 'Ê': 'E', 'Ë': 'E',\n",
    "                'è': 'e', 'é': 'e', 'ê': 'e', 'ë': 'e',\n",
    "                'Í': 'I', 'Ì': 'I', 'Î': 'I', 'Ï': 'I',\n",
    "                'í': 'i', 'ì': 'i', 'î': 'i', 'ï': 'i',\n",
    "                'Ò': 'O', 'Ó': 'O', 'Ô': 'O', 'Õ': 'O', 'Ö': 'O',\n",
    "                'ò': 'o', 'ó': 'o', 'ô': 'o', 'õ': 'o', 'ö': 'o',\n",
    "                'Ù': 'U', 'Ú': 'U', 'Û': 'U', 'Ü': 'U',\n",
    "                'ù': 'u', 'ú': 'u', 'û': 'u', 'ü': 'u',\n",
    "                'Ç': 'C', 'ç': 'c'}\n",
    "\n",
    "root = Path('.').absolute().parent\n",
    "data_path = root / 'evaluation'\n",
    "texts_path = root / 'texts'\n",
    "\n",
    "words_in_texts = get_words(Corpus('../stimuli', 'local', 1.0, min_token_len=2, max_token_len=20, min_sentence_len=None))\n",
    "swow = pd.read_csv(data_path / 'SWOWRP_words_associations.csv', delimiter='\\t')\n",
    "swow.drop(columns=['N'], inplace=True)\n",
    "swow.rename(columns={'response': 'answer', 'R1': 'n', 'R1.Strength': 'freq'}, inplace=True)"
   ]
  },
  {
   "cell_type": "markdown",
   "metadata": {},
   "source": [
    "### Preprocessing"
   ]
  },
  {
   "cell_type": "code",
   "execution_count": 24,
   "metadata": {
    "ExecuteTime": {
     "end_time": "2023-11-16T15:25:16.133964663Z",
     "start_time": "2023-11-16T15:25:15.424572576Z"
    }
   },
   "outputs": [],
   "source": [
    "# Delete cues and answers with more than one word\n",
    "swow = swow.drop(swow[swow['cue'].str.contains(' ')].index)\n",
    "swow = swow.drop(swow[swow['answer'].str.contains(' ')].index)\n",
    "# Delete cues and answers that are not composed of latin letters or have accents\n",
    "swow = swow.drop(swow[swow['cue'].str.contains('[^ \\nA-Za-z/]+')].index)\n",
    "swow = swow.drop(swow[swow['answer'].str.contains('[^ \\nA-Za-z/]+')].index)\n",
    "# Delete cues with length less than 3\n",
    "swow = swow.drop(swow[swow['cue'].str.len() < 3].index)\n",
    "swow = swow.drop(swow[swow['answer'].str.len() < 3].index)\n",
    "# Delete cues with length more than 20\n",
    "swow = swow.drop(swow[swow['cue'].str.len() > 20].index)\n",
    "swow = swow.drop(swow[swow['answer'].str.len() > 20].index)\n",
    "# To lower\n",
    "swow['cue'] = swow['cue'].str.lower()\n",
    "swow['answer'] = swow['answer'].str.lower()"
   ]
  },
  {
   "cell_type": "markdown",
   "metadata": {},
   "source": [
    "### Save to file"
   ]
  },
  {
   "cell_type": "code",
   "execution_count": 25,
   "metadata": {
    "ExecuteTime": {
     "end_time": "2023-11-16T15:25:21.570355568Z",
     "start_time": "2023-11-16T15:25:21.168729664Z"
    }
   },
   "outputs": [],
   "source": [
    "swow.to_csv(data_path / 'SWOWRP_words_associations.csv', index=False)"
   ]
  },
  {
   "cell_type": "markdown",
   "metadata": {},
   "source": [
    "### Divide in sets"
   ]
  },
  {
   "cell_type": "code",
   "execution_count": 26,
   "metadata": {
    "ExecuteTime": {
     "end_time": "2023-11-16T15:25:24.742777590Z",
     "start_time": "2023-11-16T15:25:24.674614711Z"
    }
   },
   "outputs": [
    {
     "name": "stdout",
     "output_type": "stream",
     "text": [
      "Cues in texts: 1857\n",
      "Cues outside of texts: 9221\n"
     ]
    }
   ],
   "source": [
    "swow_in_texts = swow.drop(swow[~swow['cue'].isin(words_in_texts)].index)\n",
    "swow_outside_texts = swow.drop(swow[swow['cue'].isin(words_in_texts)].index)\n",
    "print('Cues in texts: ' + str(len(swow_in_texts['cue'].unique())))\n",
    "print('Cues outside of texts: ' + str(len(swow_outside_texts['cue'].unique())))"
   ]
  }
 ],
 "metadata": {
  "kernelspec": {
   "display_name": "Python 3",
   "language": "python",
   "name": "python3"
  },
  "language_info": {
   "codemirror_mode": {
    "name": "ipython",
    "version": 3
   },
   "file_extension": ".py",
   "mimetype": "text/x-python",
   "name": "python",
   "nbconvert_exporter": "python",
   "pygments_lexer": "ipython3",
   "version": "3.10.12"
  }
 },
 "nbformat": 4,
 "nbformat_minor": 2
}

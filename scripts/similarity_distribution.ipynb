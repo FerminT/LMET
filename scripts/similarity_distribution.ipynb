{
 "cells": [
  {
   "cell_type": "code",
   "execution_count": 1,
   "id": "initial_id",
   "metadata": {
    "collapsed": true,
    "ExecuteTime": {
     "end_time": "2023-11-16T21:12:08.181667454Z",
     "start_time": "2023-11-16T21:11:27.268536786Z"
    }
   },
   "outputs": [],
   "source": [
    "from gensim.models import Word2Vec, KeyedVectors\n",
    "from tqdm.notebook import tqdm\n",
    "gt_embeddings = '../evaluation/SWOWRP_embeddings.vec'\n",
    "sg_model = '../models/all_wikis_50%/baseline/baseline.model'\n",
    "gt_embeddings = KeyedVectors.load_word2vec_format(gt_embeddings, binary=False)\n",
    "sg_model = Word2Vec.load(sg_model)"
   ]
  },
  {
   "cell_type": "markdown",
   "source": [
    "### Sample 10,000 random words"
   ],
   "metadata": {
    "collapsed": false
   },
   "id": "680e33ba3682ac88"
  },
  {
   "cell_type": "code",
   "execution_count": 7,
   "outputs": [],
   "source": [
    "import random\n",
    "\n",
    "random.seed(42)\n",
    "gt_words = random.sample(gt_embeddings.index_to_key, 650) # 5% of the words in the GT embeddings\n",
    "sg_words = random.sample(sg_model.wv.index_to_key, 1000) # 5% of the words in the SG embeddings\n",
    "gt_other_words = [word for word in random.sample(gt_embeddings.index_to_key, 6500) if word not in gt_words]\n",
    "sg_other_words = [word for word in random.sample(sg_model.wv.index_to_key, 10000) if word not in sg_words]"
   ],
   "metadata": {
    "collapsed": false,
    "ExecuteTime": {
     "end_time": "2023-11-16T21:17:28.207267249Z",
     "start_time": "2023-11-16T21:17:28.123368431Z"
    }
   },
   "id": "59b5b53efe63141"
  },
  {
   "cell_type": "markdown",
   "source": [
    "### Compute similarity between all pairs of words"
   ],
   "metadata": {
    "collapsed": false
   },
   "id": "699cb989d7d335c1"
  },
  {
   "cell_type": "code",
   "execution_count": 8,
   "outputs": [
    {
     "data": {
      "text/plain": "  0%|          | 0/650 [00:00<?, ?it/s]",
      "application/vnd.jupyter.widget-view+json": {
       "version_major": 2,
       "version_minor": 0,
       "model_id": "52021a4dd67a4ae6914b38415403e916"
      },
      "application/json": {
       "n": 0,
       "total": 650,
       "elapsed": 0.004313230514526367,
       "ncols": null,
       "nrows": null,
       "prefix": "",
       "ascii": false,
       "unit": "it",
       "unit_scale": false,
       "rate": null,
       "bar_format": null,
       "postfix": null,
       "unit_divisor": 1000,
       "initial": 0,
       "colour": null
      }
     },
     "metadata": {},
     "output_type": "display_data"
    }
   ],
   "source": [
    "def similarities(words, other_words, words_vectors):\n",
    "    similarities = []\n",
    "    for word in tqdm(words):\n",
    "        for other_word in other_words:\n",
    "            similarities.append(words_vectors.similarity(word, other_word))\n",
    "    return similarities\n",
    "gt_similarities = similarities(gt_words, gt_other_words, gt_embeddings)\n",
    "sg_similarities = similarities(sg_words, sg_other_words, sg_model.wv)"
   ],
   "metadata": {
    "collapsed": false,
    "ExecuteTime": {
     "end_time": "2023-11-16T21:18:02.840047346Z",
     "start_time": "2023-11-16T21:17:34.916266758Z"
    }
   },
   "id": "50dcd7adbfc1a664"
  },
  {
   "cell_type": "code",
   "execution_count": 9,
   "outputs": [
    {
     "data": {
      "text/plain": "<Figure size 640x480 with 1 Axes>",
      "image/png": "[encoded data removed]"
     },
     "metadata": {},
     "output_type": "display_data"
    }
   ],
   "source": [
    "import matplotlib.pyplot as plt\n",
    "import numpy as np\n",
    "\n",
    "bins = np.arange(-0.4, 0.8, 0.01)\n",
    "plt.hist(gt_similarities, bins=bins, alpha=0.8, density=True, label='SWOWRP')\n",
    "plt.hist(sg_similarities, bins=bins, alpha=0.8, density=True, label='all_wikis_50%')\n",
    "plt.legend(loc='upper right')\n",
    "plt.xlabel('Similarity')\n",
    "plt.ylabel('Frequency')\n",
    "plt.savefig('similarity_histogram.png')\n",
    "plt.show()"
   ],
   "metadata": {
    "collapsed": false,
    "ExecuteTime": {
     "end_time": "2023-11-16T21:18:25.489521541Z",
     "start_time": "2023-11-16T21:18:04.516116325Z"
    }
   },
   "id": "1b773f132983d1d6"
  }
 ],
 "metadata": {
  "kernelspec": {
   "display_name": "Python 3",
   "language": "python",
   "name": "python3"
  },
  "language_info": {
   "codemirror_mode": {
    "name": "ipython",
    "version": 2
   },
   "file_extension": ".py",
   "mimetype": "text/x-python",
   "name": "python",
   "nbconvert_exporter": "python",
   "pygments_lexer": "ipython2",
   "version": "2.7.6"
  }
 },
 "nbformat": 4,
 "nbformat_minor": 5
}
